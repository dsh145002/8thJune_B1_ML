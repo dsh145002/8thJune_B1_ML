{
 "cells": [
  {
   "cell_type": "code",
   "execution_count": 1,
   "metadata": {},
   "outputs": [],
   "source": [
    "import tkinter as tk\n",
    "from tkinter import *\n",
    "from PIL import Image, ImageTk"
   ]
  },
  {
   "cell_type": "code",
   "execution_count": 2,
   "metadata": {},
   "outputs": [],
   "source": [
    "import pandas as pd"
   ]
  },
  {
   "cell_type": "code",
   "execution_count": 3,
   "metadata": {},
   "outputs": [],
   "source": [
    "m = pd.read_pickle('house_price_predictor.pkl')"
   ]
  },
  {
   "cell_type": "code",
   "execution_count": 4,
   "metadata": {},
   "outputs": [],
   "source": [
    "\n",
    "app = tk.Tk()\n",
    "app.geometry('400x300')\n",
    "app.title('House Price Predictor')\n",
    "\n",
    "\n",
    "v_age = tk.StringVar(app)\n",
    "v_income = tk.StringVar(app)\n",
    "v_pop = tk.StringVar(app)\n",
    "v_room = tk.StringVar(app)\n",
    "res = tk.Variable(app)\n",
    "\n",
    "#app.configure(bg='red')\n",
    "\n",
    "image = Image.open(\"img19.jpg\")\n",
    "\n",
    "resize_image = image.resize((400, 300))\n",
    "img = ImageTk.PhotoImage(resize_image)\n",
    "label1 = Label(image=img)\n",
    "label1.image = img\n",
    "label1.pack()\n",
    "\n",
    "def result():\n",
    "    inc = eval(v_income.get())\n",
    "    age = eval(v_age.get())\n",
    "    room =eval(v_room.get())\n",
    "    pop =eval(v_pop.get())\n",
    "    query = pd.DataFrame({'income':[inc],'house_age':[age],'rooms':[room],'population':[pop]})\n",
    "    res.set(round(m.predict(query)[0],0))\n",
    "\n",
    "            \n",
    "t_income = tk.Label(app,text=\"Income\",bg=\"white\").place(x=1,y=1)\n",
    "\n",
    "income_box = tk.Entry(app, textvariable=v_income).place(x=20,y=20)\n",
    "\n",
    "\n",
    "t_pop = tk.Label(app,text=\"Area Population\",bg=\"white\", cursor=\"target\").place(x=1,y=40)\n",
    "\n",
    "pop_box = tk.Entry(app,textvariable=v_pop).place(x=20,y=60)\n",
    "\n",
    "\n",
    "t_room = tk.Label(app,text=\"Rooms\").place(x=1, y=80)\n",
    "\n",
    "room_box = tk.Entry(app,textvariable=v_room).place(x=20,y=100)\n",
    "\n",
    "t_age = tk.Label(app,text=\" House Age\").place(x=1, y=120)\n",
    "\n",
    "age_room = tk.Entry(app,textvariable=v_age).place(x=20,y=140)\n",
    "\n",
    "tk.Button(app,text='Submit',width = 5,height=2, command=result).place(x=150,y=50)\n",
    "\n",
    "tk.Label(app, textvariable = res,  relief=tk.RAISED).place(x=200,y=200)\n",
    "\n",
    "#app.wm_attributes(\"-transparentcolor\", 'red')\n",
    "\n",
    "app.mainloop()"
   ]
  },
  {
   "cell_type": "code",
   "execution_count": null,
   "metadata": {},
   "outputs": [],
   "source": []
  }
 ],
 "metadata": {
  "kernelspec": {
   "display_name": "Python 3",
   "language": "python",
   "name": "python3"
  },
  "language_info": {
   "codemirror_mode": {
    "name": "ipython",
    "version": 3
   },
   "file_extension": ".py",
   "mimetype": "text/x-python",
   "name": "python",
   "nbconvert_exporter": "python",
   "pygments_lexer": "ipython3",
   "version": "3.8.5"
  }
 },
 "nbformat": 4,
 "nbformat_minor": 4
}
